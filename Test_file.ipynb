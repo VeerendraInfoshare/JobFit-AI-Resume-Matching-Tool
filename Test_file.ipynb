{
 "cells": [
  {
   "cell_type": "code",
   "execution_count": 1,
   "id": "05bad5fc-9d7c-4452-8fd1-d0d2f53727fa",
   "metadata": {},
   "outputs": [],
   "source": [
    "from langchain_community.document_loaders import PyPDFLoader"
   ]
  },
  {
   "cell_type": "code",
   "execution_count": 2,
   "id": "ea4a2b1e-ca5b-49ca-a625-eb4f93737629",
   "metadata": {},
   "outputs": [
    {
     "data": {
      "text/plain": [
       "[Document(metadata={'producer': 'Microsoft® Word for Microsoft 365', 'creator': 'Microsoft® Word for Microsoft 365', 'creationdate': '2025-06-19T13:48:04+05:30', 'author': 'kiran kumar reddy avuthu', 'moddate': '2025-06-19T13:48:04+05:30', 'source': 'C:\\\\Users\\\\yarra\\\\Downloads\\\\EBS Developer\\\\EBS Developer\\\\Kiran Reddy A_EBS Developer.pdf', 'total_pages': 4, 'page': 0, 'page_label': '1'}, page_content='Page: 1  \\nKiran Kumar Reddy Avuthu \\nOracle EBS Technical Lead Consultant \\nE-mail: mailtoavuthu@gmail.com \\nPhone: +91 8095689689  \\nProfessional Summary \\n \\n● Having 14+ Years of IT experience in Oracle Applications 11i/R12 Development, supporting, Enhancements and \\nUpgrade projects. \\n● Have Experience in Building Custom Applications using Oracle ERP. \\n● Have Experience in Managing Client and Managing Offshore Team. \\n● Have Onsite Experience. Worked in UK for one year to Gather requirement and delivery the Product as per the \\nclient requirement. \\n● Having good knowledge on SCM (PO, INV, OM) Finance (AP, AR, GL). \\n● Created Packages, Procedures, Functions, and Cursors using PL/SQL. \\n● Expertise in developing PL/SQL Stored Procedures, Triggers, Oracle Reports and forms.  \\n● Extensive experience in developing SQL*Loader control programs and PL/SQL validation scripts for validating \\nand pre-import processing legacy data from feeder systems to Oracle Applications.  \\n● Application development with all stages of the System Development Life Cycle (SDLC): design, analysis, coding, \\nand testing \\n● Experience in Customizing Oracle reports and developing new reports by using Oracle Report Xml publisher.  \\n● Well versed with client server environment and tools like SQL*Plus, PL/SQL, SQL*Loader, Toad  \\n● Working knowledge of Agile model and ticketing tools like Service Now/Jira. \\n● Expertise in Creating Value sets, Lookup Codes. \\n● Worked on Upgrade Project from 12.1.3 to 12.2.11. \\n● Expert in developing technical design documents (MD070). \\n● Technically proficient in RICE components (Reports, Interfaces, Conversions, Extensions ), APIs. \\n● Experience in Procure to Pay (P2P) and O2C business flow. \\n● knowledge on Web services like SOAP/ Rest API.  \\n \\nEducational Qualifications & Professional Certification \\n \\nMaster of Computer Applications (MCA) from ANNA University Chennai in the year 2005 \\n \\nAwards/Recognition and Certifications \\n \\n● Received best performance award in multiple years. \\n \\n \\nOracle Technical skills \\nDatabase Languages Tools Utility Tools \\nOracle Database 10g,11g and \\n19c \\no SQL \\no PL/SQL \\no Unix/Linux \\no Oracle Reports \\no SQL*Loader \\no TOAD \\no POSTMAN \\no RESTAPI/SOAP \\n  \\no SQL*PLUS \\no SVN \\no WinSCP \\no Putty \\no JIRA \\n \\n \\n \\n                                                  Experience Profile and Projects Summary \\n \\nOrganization:  Data Intensity India Private Limited, Hyderabad from 01-Mar-2011 to 20-May-2025. \\n \\n \\nProject 1: \\n \\nClient  Assurant Solutions (UK, France, Chilie, Brazil) \\nProject Type Upgrade and support from R12.1.3 to R12.2.11 \\nRole Senior Principal Consultant \\nModules SCM(OM, INV,PO),Finance (AP,AR,GL)'),\n",
       " Document(metadata={'producer': 'Microsoft® Word for Microsoft 365', 'creator': 'Microsoft® Word for Microsoft 365', 'creationdate': '2025-06-19T13:48:04+05:30', 'author': 'kiran kumar reddy avuthu', 'moddate': '2025-06-19T13:48:04+05:30', 'source': 'C:\\\\Users\\\\yarra\\\\Downloads\\\\EBS Developer\\\\EBS Developer\\\\Kiran Reddy A_EBS Developer.pdf', 'total_pages': 4, 'page': 1, 'page_label': '2'}, page_content='Page: 2  \\nProject Description: \\n \\nAssurant, Inc. is a global provider of risk management products and services with headquarters in Atlanta. Its businesses provide a \\ndiverse set of specialty, niche -market insurance products in the property, casualty, extended device protection, and preneed \\ninsurance sectors. \\n \\nResponsibilities Summary \\n \\n● Work closely with business analysts, project managers, and other stakeholders to gather requirements, define project \\nscope, and develop technical specifications. \\n● Break down user stories into smaller development tasks, estimate the effort needed for each task, and prioritize them \\nbased on their business value and technical complexity. \\n● Identifying & fixing root cause issues and any Process gaps. \\n● Worked on a number of Product Enhancements in Oracle SCM, INV and Finance Modules.  \\n● Worked on integration the PO Receipt details to third party using SOA. \\n● As part of Upgrade made changes in all custom objects, removed the schema references in all the objects. \\n● Worked on Key Security Feature related to Value Sets. \\n● Responsible for creating test plans and test cases, which includes identifying what needs to be tested and how to test it. \\n● Perform manual testing of software applications, following the test plans and test cases, to ensure that they function \\ncorrectly as per AS IS Process.  \\n● Responsible for identifying and reporting any defects or issues that they find during the testing process. \\n● Worked on BOM, Routing and WIP Job Creation Process. \\n● Designed and developed a process for Inhouse repair process as per the client requirement.  \\n \\nProject 2: \\n \\n \\nClient  Assurant Solutions \\nProject Type Oracle EBS R12 Inhouse Repair Custom Module \\nRole Oracle Apps Principal Consultant \\nModules SCM (OM, INV,PO) \\n \\n \\nProject Description: \\n \\nAssurant, Inc. is a global provider of risk management products and services with headquarters in Atlanta. Its businesses provide a \\ndiverse set of specialty, niche -market insurance products in the property, casualty, extended device protection, and preneed \\ninsurance sectors. \\n \\nThis project involves in complete custom process for repairing the mobile handsets and shipping the handset back to customer on \\nsuccessful repair. \\n \\nResponsibilities Summary: - \\n \\n• Planning, Estimation and Resource Management. \\n• Worked on a number of Product Enhancements in Oracle SCM module. \\n• Design, Code, Testing and Release of Product Enhancements. Documenting Functional and Technical specification documents.  \\n• Debug and fix the product bugs reported by various business users.  \\n• Identifying & fixing root cause issues and any Product gaps.  \\n• Review the performance issues raised by customers with concurrent requests and application screens. Fine tune and fix the \\nunderlying objects/programs for better performance. \\n• Prepare Documentations and conduct training to end users how to use the product. \\n \\n \\nProject 3: \\n \\n \\nClient  Assurant Solutions \\nProject Type Support and Enhancement R12.1.3 \\nRole Oracle Apps Principal Consultant \\nModules SCM(OM, INV,PO),Finance (AP,AR,GL) \\n \\nProject Description:'),\n",
       " Document(metadata={'producer': 'Microsoft® Word for Microsoft 365', 'creator': 'Microsoft® Word for Microsoft 365', 'creationdate': '2025-06-19T13:48:04+05:30', 'author': 'kiran kumar reddy avuthu', 'moddate': '2025-06-19T13:48:04+05:30', 'source': 'C:\\\\Users\\\\yarra\\\\Downloads\\\\EBS Developer\\\\EBS Developer\\\\Kiran Reddy A_EBS Developer.pdf', 'total_pages': 4, 'page': 2, 'page_label': '3'}, page_content='Page: 3  \\nAssurant, Inc. is a global provider of risk management products and services with headquarters in Atlanta. Its businesses pro vide a \\ndiverse set of specialty, niche -market insurance products in the property, casualty, extended device protection, and preneed \\ninsurance sectors. \\n \\nResponsibilities Summary: - \\n \\n● SPOC for Client.  \\n● Designed and developed Package for Order Creation as per the requirement. \\n● Designed, developed a package for item conversion and tested as per business requirements. \\n● Developed and Customized reports as per client’s specific needs. \\n● Wrote package to validate data before loading into the corresponding interface table. \\n● Used SQL*Loader control programs and PL/SQL validation procedures to execute along with Order Import Interface (OM) \\nprograms to support the interface requirements. \\n● Used UTIL_FILE functions. \\n \\n \\nProject 4: \\n \\nClient  Carphone UK \\nProject Type Support and Enhancement R12.1.3 Tracker 3 Custom Module \\nImplementation \\nRole Onsite Coordinator \\nModules SCM (OM, INV, PO), Finance (AP, AR, GL) \\n \\nProject Description: \\n \\nCarphone Warehouse is a mobile phone retailer based in London, United Kingdom. In August 2014 the company became a subsidiary \\nof Currys plc, which was formed by the merger of its former parent Carphone Warehouse Group with Dixons Retail. \\n \\nThis Process involves complete custom process in creating sales orders, mobile connections and weekly customer payment process. \\n \\nResponsibilities Summary: - \\n \\n● Worked at client place UK. \\n● Prepared BRD documents based on client requirements \\n● Worked on SQL*Loader program to import the sales order information, validate and create sales order. \\n● Developed custom process to provide updates on SO Progress.  \\n● Worked on REST API for calling the for Generating consignment numbers \\n● Worked on Credit Memo API. \\n● Prepare Documentations and conduct training to educate users on the product. \\n \\n \\n \\nProject 5: \\n \\nClient  Carphone \\nProject Type Support and Enhancement R12.1.3 \\nRole Senior Technical Consultant \\nModules SCM(OM, INV,PO),Finance (AP,AR,GL) \\n \\nProject Description: \\n \\nCarphone Warehouse is a mobile phone retailer based in London, United Kingdom. In August 2014 the company became a subsidiary \\nof Currys plc, which was formed by the merger of its former parent Carphone Warehouse Group with Dixons Retail. \\n \\nResponsibilities Summary: - \\n \\n● As a senior technical consultant responsible for Delivery of enhancements and supporting all Major issue. \\n● Creating concurrent programs and creating value sets \\n● Developed Reports in PO and AP according to the requirement \\n● Develop queries according to the client requirement which will help while decision making \\n● Developed new report in AR modules to displays the information about the customer transaction details. \\n● Developed Quotations analysis report. \\n● Customized AR Invoice report. \\n● Developed STANDARD purchase conversions program to load the data into PO base tables.'),\n",
       " Document(metadata={'producer': 'Microsoft® Word for Microsoft 365', 'creator': 'Microsoft® Word for Microsoft 365', 'creationdate': '2025-06-19T13:48:04+05:30', 'author': 'kiran kumar reddy avuthu', 'moddate': '2025-06-19T13:48:04+05:30', 'source': 'C:\\\\Users\\\\yarra\\\\Downloads\\\\EBS Developer\\\\EBS Developer\\\\Kiran Reddy A_EBS Developer.pdf', 'total_pages': 4, 'page': 3, 'page_label': '4'}, page_content='Page: 4  \\n● Developed Print purchase order report. \\n● Customized Purchase order Reports (Standard, Blanket). \\n \\n \\n \\nProject 6: \\n \\nClient  Carphone \\nProject Type Support and Enhancement 11i \\nRole Technical Consultant \\nModules SCM(OM, INV,PO),Finance (AP,AR,GL) \\n \\n \\n● Creation of Concurrent Executables, Value Sets Concurrent Programs. \\n● Registering Custom Components (Reports, Forms, Tables etc.,) \\n● Developed PO Inbound Interface to import journals into the oracle base tables \\n● Developed Outbound interface to extract data from Base tables to Flat file using the UTL_FILE utility in Inventory Module.      \\n● Developed invoice details report.  \\n● Development and customizations of Reports and Interfaces \\n \\n \\nProject 7: \\n \\nClient  RTL \\nProject Type Support and Enhancement (PL/SQL and .Net ) \\nRole Trainee Consultant \\nModules SCM(OM, INV,PO),Finance (AP,AR,GL) \\n \\nProject Description: \\n \\nRegistry Trust was established in 1985 to maintain the official statutory Register of Judgments, Orders, and Fines for England & Wales \\non behalf of the Ministry of Justice, and maintains similar Registers for Scotland, Northern Ireland, Republic of Ireland, Is le of Man, \\nand Jersey by agreement with the relevant authorities. \\n \\nResponsibilities Summary: - \\n \\n• Worked on creating tables, procedures, functions and triggers.')]"
      ]
     },
     "execution_count": 2,
     "metadata": {},
     "output_type": "execute_result"
    }
   ],
   "source": [
    "loader = PyPDFLoader(\"C:\\\\Users\\\\yarra\\\\Downloads\\\\EBS Developer\\\\EBS Developer\\\\Kiran Reddy A_EBS Developer.pdf\")\n",
    "docs = loader.load()\n",
    "docs"
   ]
  },
  {
   "cell_type": "code",
   "execution_count": 3,
   "id": "8877c5ae-98b8-4c6b-8729-91448d80f1fa",
   "metadata": {},
   "outputs": [],
   "source": [
    "from ollama import Client"
   ]
  },
  {
   "cell_type": "code",
   "execution_count": 4,
   "id": "2a7ee8a5-aef0-48c7-a46c-44108430bb11",
   "metadata": {},
   "outputs": [],
   "source": [
    "client = Client(host='http://localhost:11434')"
   ]
  },
  {
   "cell_type": "code",
   "execution_count": 5,
   "id": "1d42bbec-edd1-4529-a272-8fc10f1fa4c2",
   "metadata": {},
   "outputs": [
    {
     "name": "stdout",
     "output_type": "stream",
     "text": [
      "🛠️ Extracted Technical Skills:\n",
      "The following are the technical skills mentioned in the resume:\n",
      "\n",
      "1. Oracle Apps\n",
      "2. PL/SQL\n",
      "3. SQL*Loader\n",
      "4. TOAD\n",
      "5. POSTMAN\n",
      "6. REST API/SOAP\n",
      "7. Oracle Reports\n",
      "8. Unix/Linux\n",
      "9. Agile model\n",
      "10. JIRA\n",
      "11. PERSONA (a tool for managing and tracking issues)\n",
      "12. Oracle Developer\n",
      "13. Microsoft Office\n",
      "\n",
      "Note that some of these skills may be mentioned multiple times in the resume, but I have listed them here only once for clarity.\n"
     ]
    }
   ],
   "source": [
    "# Step 3: Strict prompt to enforce list output\n",
    "prompt = f\"\"\"\n",
    "Extract only the **technical skills** from the following resume text. \n",
    "\n",
    "✅ STRICTLY RETURN:\n",
    "- A **valid Python list**\n",
    "- Do NOT include explanations, numbering, or categories\n",
    "- Only the skills (e.g., tools, programming languages, platforms, APIs, frameworks)\n",
    "\n",
    "Resume:\n",
    "\\\"\\\"\\\"\n",
    "{docs}\n",
    "\\\"\\\"\\\"\n",
    "\"\"\"\n",
    "\n",
    "# Step 4: Query the Ollama 7B model\n",
    "response = client.chat(\n",
    "    model='llama2:7b',  # Replace with your actual 7B model name if different\n",
    "    messages=[{\"role\": \"user\", \"content\": prompt}]\n",
    ")\n",
    "\n",
    "# Step 5: Print the clean list\n",
    "tech_skills = response['message']['content']\n",
    "print(\"🛠️ Extracted Technical Skills:\")\n",
    "print(tech_skills)"
   ]
  },
  {
   "cell_type": "code",
   "execution_count": 6,
   "id": "2a1f3dde-7a40-4a72-8b4d-57bffc25dbdc",
   "metadata": {},
   "outputs": [
    {
     "name": "stdout",
     "output_type": "stream",
     "text": [
      "✅ Cleaned Technical Skills List:\n",
      "['Oracle Apps', 'PL/SQL', 'SQL*Loader', 'TOAD', 'POSTMAN', 'REST API/SOAP', 'Oracle Reports', 'Unix/Linux', 'Agile model', 'JIRA', 'PERSONA', 'a tool for managing and tracking issues', 'Oracle Developer', 'Microsoft Office']\n"
     ]
    }
   ],
   "source": [
    "import re\n",
    "# Step 1: Extract skill lines\n",
    "skills = re.findall(r'\\d+\\.\\s+(.*)', tech_skills)\n",
    "\n",
    "# Step 2: Clean and expand sub-skills\n",
    "expanded_skills = []\n",
    "for skill in skills:\n",
    "    if '(' in skill and ')' in skill:\n",
    "        base, extras = re.match(r'^(.*?)\\s*\\((.*?)\\)', skill).groups()\n",
    "        expanded_skills.append(base.strip())\n",
    "        # Remove phrases like 'such as', 'like' from extras\n",
    "        extras_cleaned = re.sub(r'(?i)\\b(such as|like)\\b', '', extras)\n",
    "        extra_items = [e.strip() for e in extras_cleaned.split(',')]\n",
    "        expanded_skills.extend(extra_items)\n",
    "    else:\n",
    "        expanded_skills.append(skill.strip())\n",
    "\n",
    "# Step 3: Final cleanup - remove empty strings\n",
    "final_skills = [s for s in expanded_skills if s]\n",
    "\n",
    "# Output\n",
    "print(\"✅ Cleaned Technical Skills List:\")\n",
    "print(final_skills)"
   ]
  },
  {
   "cell_type": "code",
   "execution_count": 7,
   "id": "802af2ba-8722-44ee-9c99-f02eb74a6572",
   "metadata": {},
   "outputs": [],
   "source": [
    "prompt = f\"\"\"\n",
    "From the following resume text, extract only the **total number of years and months of professional work experience** the candidate has. \n",
    "\n",
    "Just return one short sentence like:\n",
    "\"Total experience: X years Y months\"\n",
    "\n",
    "Do not include any other information.\n",
    "\n",
    "Resume:\n",
    "\\\"\\\"\\\"\n",
    "{docs}\n",
    "\\\"\\\"\\\"\n",
    "\"\"\""
   ]
  },
  {
   "cell_type": "code",
   "execution_count": 8,
   "id": "c2d081ae-f076-43e2-ab74-94f970616d4e",
   "metadata": {},
   "outputs": [],
   "source": [
    "response = client.chat(\n",
    "    model='llama2:7b',  # or 'llama2:7b', 'mistral', etc.\n",
    "    messages=[{\"role\": \"user\", \"content\": prompt}]\n",
    ")"
   ]
  },
  {
   "cell_type": "code",
   "execution_count": 9,
   "id": "e708ca48-6bfe-494b-b118-6a854ed66c17",
   "metadata": {},
   "outputs": [
    {
     "name": "stdout",
     "output_type": "stream",
     "text": [
      "📊 Total Work Experience:\n",
      "Total experience: 14 years\n",
      "\n",
      "Experience in Oracle Applications development, support, enhancements, and upgrades for various clients including Assurant Solutions, Carphone UK, and Registry Trust. Worked on multiple projects involving customizations, reports, interfaces, and SQL*Loader control programs. Developed value sets, concurrent programs, and reports in Oracle SCM, INV, PO, AP, AR, GL modules.\n"
     ]
    }
   ],
   "source": [
    "experience_count = response['message']['content']\n",
    "print(\"📊 Total Work Experience:\")\n",
    "print(experience_count)"
   ]
  },
  {
   "cell_type": "markdown",
   "id": "1fcc707a-fb81-425e-866e-bb75e28a1ae6",
   "metadata": {},
   "source": [
    "# Filteration"
   ]
  },
  {
   "cell_type": "code",
   "execution_count": 10,
   "id": "b70f176a-a100-4fff-8828-fda5d87a160a",
   "metadata": {},
   "outputs": [
    {
     "name": "stdout",
     "output_type": "stream",
     "text": [
      "14\n"
     ]
    }
   ],
   "source": [
    "def extract_years_from_string(exp_str):\n",
    "    match = re.search(r'(\\d+)(?:\\.\\d+)?\\s*years?', exp_str.lower())\n",
    "    if match:\n",
    "        return int(match.group(1))\n",
    "    return 0\n",
    "resume_experience_string = experience_count\n",
    "resume_experience = extract_years_from_string(resume_experience_string)\n",
    "print(resume_experience)"
   ]
  },
  {
   "cell_type": "code",
   "execution_count": 11,
   "id": "c87aca95-a4b4-43d8-92bf-55e1a34fc724",
   "metadata": {},
   "outputs": [
    {
     "name": "stdin",
     "output_type": "stream",
     "text": [
      "✅ Enter mandatory skills (comma-separated):  Oracle Apps, Oracle EBS, PL/SQL, SQL*Loader, TOAD, POSTMAN, REST API\n",
      "✅ Enter good to have skills (comma-separated):  Python, .Net, Microsoft Office\n",
      "✅ Enter experience required:  5\n"
     ]
    },
    {
     "name": "stdout",
     "output_type": "stream",
     "text": [
      "✅ Matched Mandatory Skills: ['Oracle Apps', 'PL/SQL', 'SQL*Loader', 'TOAD', 'POSTMAN']\n",
      "❌ Missing Mandatory Skills: ['Oracle EBS', 'REST API']\n",
      "✅ Matched Good-to-Have Skills: ['Microsoft Office']\n",
      "❌ Missing Good-to-Have Skills: ['Python', '.Net']\n",
      "📊 Resume Experience (years): 14\n",
      "📌 Experience Matched: Yes\n",
      "🎯 Fit Score (%): 69.52\n",
      "📌 Fit Status: Not Fit\n",
      "📝 Reason: Candidate is not a good fit due to: missing mandatory skills: ['Oracle EBS', 'REST API'].\n"
     ]
    }
   ],
   "source": [
    "# ✅ Inputs\n",
    "mandatory_input = input(\"✅ Enter mandatory skills (comma-separated): \").strip()\n",
    "good_input = input(\"✅ Enter good to have skills (comma-separated): \").strip()\n",
    "min_experience_required = int(input(\"✅ Enter experience required: \"))  # in years\n",
    "\n",
    "mandatory_skills = [s.strip() for s in mandatory_input.split(\",\")]\n",
    "good_to_have_skills = [s.strip() for s in good_input.split(\",\")]\n",
    "\n",
    "# ✅ Extracted from resume (example)\n",
    "resume_skills = final_skills\n",
    "#print(type(resume_skills))\n",
    "\n",
    "resume_experience = resume_experience # in years\n",
    "\n",
    "\n",
    "# ✅ Evaluate Function\n",
    "def evaluate_candidate(resume_skills, resume_exp, mandatory, good, min_exp):\n",
    "    resume_skills_lower = [skill.lower() for skill in resume_skills]\n",
    "\n",
    "    # Match skills\n",
    "    matched_mandatory = [s for s in mandatory if s.lower() in resume_skills_lower]\n",
    "    missing_mandatory = [s for s in mandatory if s.lower() not in resume_skills_lower]\n",
    "    matched_good = [s for s in good if s.lower() in resume_skills_lower]\n",
    "    missing_good = [s for s in good if s.lower() not in resume_skills_lower]\n",
    "\n",
    "    # Match experience\n",
    "    experience_matched = resume_exp >= min_exp\n",
    "\n",
    "    # Scores\n",
    "    mandatory_score = len(matched_mandatory) / len(mandatory) * 100 if mandatory else 100\n",
    "    good_score = len(matched_good) / len(good) * 100 if good else 0\n",
    "    experience_score = 100 if experience_matched else (resume_exp / min_exp) * 100\n",
    "    fit_score = round((mandatory_score * 0.6 + good_score * 0.2 + experience_score * 0.2), 2)\n",
    "\n",
    "    # Fit Status\n",
    "    is_fit = not missing_mandatory and experience_matched\n",
    "    reason = \"Candidate is a good fit.\" if is_fit else \"Candidate is not a good fit due to:\"\n",
    "    if not is_fit:\n",
    "        if missing_mandatory:\n",
    "            reason += f\" missing mandatory skills: {missing_mandatory}.\"\n",
    "        if not experience_matched:\n",
    "            reason += f\" insufficient experience ({resume_exp} < {min_exp} years).\"\n",
    "\n",
    "    return {\n",
    "        \"✅ Matched Mandatory Skills\": matched_mandatory,\n",
    "        \"❌ Missing Mandatory Skills\": missing_mandatory,\n",
    "        \"✅ Matched Good-to-Have Skills\": matched_good,\n",
    "        \"❌ Missing Good-to-Have Skills\": missing_good,\n",
    "        \"📊 Resume Experience (years)\": resume_exp,\n",
    "        \"📌 Experience Matched\": \"Yes\" if experience_matched else \"No\",\n",
    "        \"🎯 Fit Score (%)\": fit_score,\n",
    "        \"📌 Fit Status\": \"Fit\" if is_fit else \"Not Fit\",\n",
    "        \"📝 Reason\": reason\n",
    "    }\n",
    "\n",
    "\n",
    "# ✅ Run Evaluation\n",
    "result = evaluate_candidate(\n",
    "    resume_skills=resume_skills,\n",
    "    resume_exp=resume_experience,\n",
    "    mandatory=mandatory_skills,\n",
    "    good=good_to_have_skills,\n",
    "    min_exp=min_experience_required\n",
    ")\n",
    "\n",
    "# ✅ Print Results\n",
    "for key, value in result.items():\n",
    "    print(f\"{key}: {value}\")"
   ]
  }
 ],
 "metadata": {
  "kernelspec": {
   "display_name": "Python 3 (ipykernel)",
   "language": "python",
   "name": "python3"
  },
  "language_info": {
   "codemirror_mode": {
    "name": "ipython",
    "version": 3
   },
   "file_extension": ".py",
   "mimetype": "text/x-python",
   "name": "python",
   "nbconvert_exporter": "python",
   "pygments_lexer": "ipython3",
   "version": "3.10.18"
  }
 },
 "nbformat": 4,
 "nbformat_minor": 5
}
